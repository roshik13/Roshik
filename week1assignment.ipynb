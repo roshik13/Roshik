{
 "cells": [
  {
   "cell_type": "code",
   "execution_count": 0,
   "metadata": {
    "colab": {},
    "colab_type": "code",
    "id": "F-6bE0dYcBgA"
   },
   "outputs": [],
   "source": []
  },
  {
   "cell_type": "code",
   "execution_count": null,
   "metadata": {
    "colab": {},
    "colab_type": "code",
    "id": "gK71NIhMcEs5"
   },
   "outputs": [],
   "source": [
    "## Load the diabetes dataset\n",
    "import numpy as np\n",
    "from sklearn import datasets, linear_model, metrics\n",
    "diabetes = datasets.load_diabetes()\n",
    "diabetes_X = diabetes.data # matrix of dimensions 442x10\n",
    " \n",
    "# Split the data into training/testing sets\n",
    "diabetes_X_train = diabetes_X[:-20]\n",
    "diabetes_X_test = diabetes_X[-20:]\n",
    " \n",
    "# Split the targets into training/testing sets\n",
    "diabetes_y_train = diabetes.target[:-20]\n",
    "diabetes_y_test = diabetes.target[-20:]# train\n",
    "# train\n",
    "X = diabetes_X_train\n",
    "y = diabetes_y_train\n",
    "X=np.array(X)\n",
    "y=np.array(y)\n",
    "# train: init\n",
    "W = np.zeros(10)\n",
    "b = 0\n",
    "n=len(y)\n",
    "learning_rate = 0.01\n",
    "epochs = 10000\n",
    "mse=[]\n",
    "# train: gradient descent\n",
    "ep=[]\n",
    "for i in range(epochs):\n",
    "    # calculate predictions\n",
    "    error=0\n",
    "    se=0\n",
    "    for j in range(n):\n",
    "        y_c=np.dot(W,X[j])+b\n",
    "        error=y_c-y[j]\n",
    "        se=se+error**2\n",
    "    mean_squared_error=se/(2*n)\n",
    "    for j in range(10):\n",
    "        sum1=0\n",
    "        for k in range(422):\n",
    "            y_c=np.dot(W,X[j])+b\n",
    "            sum1+=(y_c-y[k])*(X[k][j])\n",
    "        W[j]-=learning_rate*sum1/n\n",
    "        sum1=0\n",
    "        for k in range(422):\n",
    "            y_c=np.dot(W,X[j])+b\n",
    "            sum1+=(y_c-y[k])\n",
    "        b-=learning_rate*sum1/n\n",
    "    # calculate error and cost (mean squared error)\n",
    "    ...\n",
    " \n",
    "    # calculate gradients\n",
    "    ...\n",
    " \n",
    "    # update parameters\n",
    "    ...\n",
    "    ep.append(epochs)\n",
    "    mse.append(mean_squared_error)\n",
    "    # diagnostic output\n",
    "    if i % 5000 == 0: print(\"Epoch %d: %f\" % (i, mean_squared_error))\n",
    "# test\n",
    "X = diabetes_X_test\n",
    "y = diabetes_y_test\n",
    " X=np.array(X)\n",
    "y=np.array(y)\n",
    "# train: init\n",
    "W = np.zeros(10)\n",
    "b = 0\n",
    "n=len(y)\n",
    "learning_rate = 0.01\n",
    "epochs = 10000\n",
    "mse=[]\n",
    "# train: gradient descent\n",
    "ep=[]\n",
    "for i in range(epochs):\n",
    "    # calculate predictions\n",
    "    error=0\n",
    "    se=0\n",
    "    for j in range(n):\n",
    "        y_c=np.dot(W,X[j])+b\n",
    "        error=y_c-y[j]\n",
    "        se=se+error**2\n",
    "    mean_squared_error=se/(2*n)\n",
    "    for j in range(10):\n",
    "        sum1=0\n",
    "        for k in range(422):\n",
    "            y_c=np.dot(W,X[j])+b\n",
    "            sum1+=(y_c-y[k])*(X[k][j])\n",
    "        W[j]-=learning_rate*sum1/n\n",
    "        sum1=0\n",
    "        for k in range(422):\n",
    "            y_c=np.dot(W,X[j])+b\n",
    "            sum1+=(y_c-y[k])\n",
    "        b-=learning_rate*sum1/n\n",
    "    # calculate error and cost (mean squared error)\n",
    "    ...\n",
    " \n",
    "    # calculate gradients\n",
    "    ...\n",
    " \n",
    "    # update parameters\n",
    "    ...\n",
    "    ep.append(epochs)\n",
    "    mse.append(mean_squared_error)\n",
    "# calculate predictions + calculate error and cost (same code as above)\n",
    "...\n",
    "print('Coefficients: \\n', W)\n",
    "print(\"Mean squared error: %.2f\" % mean_squared_error)\n",
    "print(\"=\"*120)"
   ]
  },
  {
   "cell_type": "code",
   "execution_count": 0,
   "metadata": {
    "colab": {},
    "colab_type": "code",
    "id": "XJTg22ybcHsl"
   },
   "outputs": [],
   "source": []
  },
  {
   "cell_type": "code",
   "execution_count": 14,
   "metadata": {
    "colab": {},
    "colab_type": "code",
    "id": "uvSdTn-0cKJL"
   },
   "outputs": [
    {
     "name": "stdout",
     "output_type": "stream",
     "text": [
      "422\n"
     ]
    }
   ],
   "source": []
  },
  {
   "cell_type": "code",
   "execution_count": null,
   "metadata": {},
   "outputs": [],
   "source": []
  }
 ],
 "metadata": {
  "colab": {
   "name": "week1assignment.ipynb",
   "provenance": []
  },
  "kernelspec": {
   "display_name": "Python 3",
   "language": "python",
   "name": "python3"
  },
  "language_info": {
   "codemirror_mode": {
    "name": "ipython",
    "version": 3
   },
   "file_extension": ".py",
   "mimetype": "text/x-python",
   "name": "python",
   "nbconvert_exporter": "python",
   "pygments_lexer": "ipython3",
   "version": "3.7.6"
  }
 },
 "nbformat": 4,
 "nbformat_minor": 1
}
